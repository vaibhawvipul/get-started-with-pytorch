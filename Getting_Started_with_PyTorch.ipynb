{
  "nbformat": 4,
  "nbformat_minor": 0,
  "metadata": {
    "colab": {
      "name": "Getting Started with PyTorch",
      "provenance": [],
      "collapsed_sections": [],
      "include_colab_link": true
    },
    "kernelspec": {
      "name": "python3",
      "display_name": "Python 3"
    },
    "accelerator": "GPU"
  },
  "cells": [
    {
      "cell_type": "markdown",
      "metadata": {
        "id": "view-in-github",
        "colab_type": "text"
      },
      "source": [
        "<a href=\"https://colab.research.google.com/github/vaibhawvipul/get-started-with-pytorch/blob/master/Getting_Started_with_PyTorch.ipynb\" target=\"_parent\"><img src=\"https://colab.research.google.com/assets/colab-badge.svg\" alt=\"Open In Colab\"/></a>"
      ]
    },
    {
      "cell_type": "markdown",
      "metadata": {
        "id": "yCRWaUAaGLXk",
        "colab_type": "text"
      },
      "source": [
        "![](https://discuss.pytorch.org/uploads/default/original/2X/3/35226d9fbc661ced1c5d17e374638389178c3176.png)\n",
        "\n",
        "\n",
        "\n",
        "---\n",
        "\n",
        "#PyTorch Workshop \n",
        "powered by -\n",
        "\n",
        "![alt text](data:image/png;base64,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)\n",
        "\n",
        "visit us - https://www.chanakyaschool.ai/\n",
        "\n",
        "---\n",
        "\n",
        "References and other resources\n",
        "- [PyTorch Tutorials](https://pytorch.org/tutorials/)\n",
        "- [Torchvision](https://pytorch.org/docs/stable/torchvision/index.html)\n",
        "\n",
        "---"
      ]
    },
    {
      "cell_type": "markdown",
      "metadata": {
        "id": "x96xuthWqY5g",
        "colab_type": "text"
      },
      "source": [
        "# Introduction"
      ]
    },
    {
      "cell_type": "markdown",
      "metadata": {
        "id": "SXx2LRMsTXBN",
        "colab_type": "text"
      },
      "source": [
        "## Let us talk about Tensors! "
      ]
    },
    {
      "cell_type": "code",
      "metadata": {
        "id": "TNG9LfmyFXT1",
        "colab_type": "code",
        "colab": {}
      },
      "source": [
        "import torch\n",
        "print(torch.__version__)\n"
      ],
      "execution_count": 0,
      "outputs": []
    },
    {
      "cell_type": "code",
      "metadata": {
        "id": "IeoZTYiASaYH",
        "colab_type": "code",
        "colab": {}
      },
      "source": [
        "x = torch.tensor([1,0,1,0,1])"
      ],
      "execution_count": 0,
      "outputs": []
    },
    {
      "cell_type": "code",
      "metadata": {
        "id": "ffWkr3GyTmnc",
        "colab_type": "code",
        "colab": {}
      },
      "source": [
        "x.shape"
      ],
      "execution_count": 0,
      "outputs": []
    },
    {
      "cell_type": "code",
      "metadata": {
        "id": "azthZy0OQPGN",
        "colab_type": "code",
        "colab": {}
      },
      "source": [
        "x = torch.tensor([[1,2,3],[1,2,3]])"
      ],
      "execution_count": 0,
      "outputs": []
    },
    {
      "cell_type": "code",
      "metadata": {
        "id": "uJoSbiqNQda4",
        "colab_type": "code",
        "colab": {}
      },
      "source": [
        "x.shape"
      ],
      "execution_count": 0,
      "outputs": []
    },
    {
      "cell_type": "code",
      "metadata": {
        "id": "04j7UV5TQoNn",
        "colab_type": "code",
        "colab": {}
      },
      "source": [
        "import numpy as np\n",
        "# numpy\n",
        "np.eye(3)"
      ],
      "execution_count": 0,
      "outputs": []
    },
    {
      "cell_type": "code",
      "metadata": {
        "id": "3D0rADD5SWBo",
        "colab_type": "code",
        "colab": {}
      },
      "source": [
        "torch.eye(3)"
      ],
      "execution_count": 0,
      "outputs": []
    },
    {
      "cell_type": "code",
      "metadata": {
        "id": "gic0RAvBQiat",
        "colab_type": "code",
        "colab": {}
      },
      "source": [
        "np.ones(3)"
      ],
      "execution_count": 0,
      "outputs": []
    },
    {
      "cell_type": "code",
      "metadata": {
        "id": "0NSGw73sQiSR",
        "colab_type": "code",
        "colab": {}
      },
      "source": [
        "torch.ones(3)"
      ],
      "execution_count": 0,
      "outputs": []
    },
    {
      "cell_type": "code",
      "metadata": {
        "id": "B1_hsgbwQzQl",
        "colab_type": "code",
        "colab": {}
      },
      "source": [
        "np.zeros(3)"
      ],
      "execution_count": 0,
      "outputs": []
    },
    {
      "cell_type": "code",
      "metadata": {
        "id": "FaSiC2ZSREtj",
        "colab_type": "code",
        "colab": {}
      },
      "source": [
        "torch.zeros(3)"
      ],
      "execution_count": 0,
      "outputs": []
    },
    {
      "cell_type": "code",
      "metadata": {
        "id": "kId03FOzRGd_",
        "colab_type": "code",
        "colab": {}
      },
      "source": [
        "np.empty([3,3]) #https://docs.scipy.org/doc/numpy/reference/generated/numpy.empty.html"
      ],
      "execution_count": 0,
      "outputs": []
    },
    {
      "cell_type": "code",
      "metadata": {
        "id": "eu3wSMrJRLEO",
        "colab_type": "code",
        "colab": {}
      },
      "source": [
        "torch.empty((3,3))"
      ],
      "execution_count": 0,
      "outputs": []
    },
    {
      "cell_type": "code",
      "metadata": {
        "id": "L8VKGL1HRS3n",
        "colab_type": "code",
        "colab": {}
      },
      "source": [
        "X = np.random.random((3, 3))\n",
        "X"
      ],
      "execution_count": 0,
      "outputs": []
    },
    {
      "cell_type": "code",
      "metadata": {
        "id": "q53wJ8ExSvXG",
        "colab_type": "code",
        "colab": {}
      },
      "source": [
        "Y = torch.rand((3, 3))\n",
        "Y"
      ],
      "execution_count": 0,
      "outputs": []
    },
    {
      "cell_type": "code",
      "metadata": {
        "id": "t0er_fJ9SyqV",
        "colab_type": "code",
        "colab": {}
      },
      "source": [
        "X.shape"
      ],
      "execution_count": 0,
      "outputs": []
    },
    {
      "cell_type": "code",
      "metadata": {
        "id": "cqedLgZRS5pd",
        "colab_type": "code",
        "colab": {}
      },
      "source": [
        "Y.shape"
      ],
      "execution_count": 0,
      "outputs": []
    },
    {
      "cell_type": "markdown",
      "metadata": {
        "id": "HacCCLkWTNbc",
        "colab_type": "text"
      },
      "source": [
        "## Numpy vs Pytorch"
      ]
    },
    {
      "cell_type": "markdown",
      "metadata": {
        "id": "dLRVhqjcTj8i",
        "colab_type": "text"
      },
      "source": [
        "Both Numpy and PyTorch are scientific computing libraries.\n",
        "\n",
        "Pytorch's `torch.tensor` has support for GPU and also stores gradients which comes handy while doing say backprop.\n",
        "\n",
        "Let us do some benchmarks and see how they compare to each other.\n"
      ]
    },
    {
      "cell_type": "code",
      "metadata": {
        "id": "LGg0bDtLTZ0s",
        "colab_type": "code",
        "colab": {}
      },
      "source": [
        "#Initializing tensor and array\n",
        "# Numpy\n",
        "import time\n",
        "start_time = time.time()\n",
        "\n",
        "for i in range(10000):\n",
        "  np.empty([3,3])\n",
        "\n",
        "stop_time = time.time()\n",
        "\n",
        "print(\"Execution time: \", stop_time-start_time)"
      ],
      "execution_count": 0,
      "outputs": []
    },
    {
      "cell_type": "code",
      "metadata": {
        "id": "hoEIAf2vY7os",
        "colab_type": "code",
        "colab": {}
      },
      "source": [
        "# PyTorch\n",
        "start_time = time.time()\n",
        "\n",
        "for i in range(10000):\n",
        "  torch.empty([3,3])\n",
        "\n",
        "stop_time = time.time()\n",
        "\n",
        "print(\"Execution time: \", stop_time-start_time)"
      ],
      "execution_count": 0,
      "outputs": []
    },
    {
      "cell_type": "markdown",
      "metadata": {
        "id": "TWpz2YysZKHe",
        "colab_type": "text"
      },
      "source": [
        "Numpy wins!"
      ]
    },
    {
      "cell_type": "code",
      "metadata": {
        "id": "LxIXsicPZGf0",
        "colab_type": "code",
        "colab": {}
      },
      "source": [
        "# Array Ops\n",
        "# Numpy \n",
        "start_time = time.time()\n",
        "x = np.random.rand(10000,10000)\n",
        "y = np.random.rand(10000,10000)\n",
        "\n",
        "np.dot(x,y)\n",
        "stop_time = time.time()\n",
        "\n",
        "print(\"Execution time: \", stop_time-start_time)"
      ],
      "execution_count": 0,
      "outputs": []
    },
    {
      "cell_type": "code",
      "metadata": {
        "id": "LfV3A4tBaEDD",
        "colab_type": "code",
        "colab": {}
      },
      "source": [
        "# PyTorch \n",
        "start_time = time.time()\n",
        "x = torch.rand(10000,10000)\n",
        "y = torch.rand(10000,10000)\n",
        "\n",
        "torch.matmul(x,y)\n",
        "# note - np.dot is flexible as compared to torch.dot.\n",
        "# read more about that here - https://stackoverflow.com/a/44525687/7179564\n",
        "\n",
        "# also read about PyTorch Broadcast - https://pytorch.org/docs/stable/notes/broadcasting.html#broadcasting-semantics\n",
        "stop_time = time.time()\n",
        "\n",
        "print(\"Execution time: \", stop_time-start_time)"
      ],
      "execution_count": 0,
      "outputs": []
    },
    {
      "cell_type": "markdown",
      "metadata": {
        "id": "9v_0FKdObksk",
        "colab_type": "text"
      },
      "source": [
        "PyTorch is the winner! "
      ]
    },
    {
      "cell_type": "code",
      "metadata": {
        "id": "Ti_OrvvQaXCe",
        "colab_type": "code",
        "colab": {}
      },
      "source": [
        "# initalizing trillion * trillion  sized tensor\n",
        "# numpy\n",
        "np.empty([int(1e12),int(1e12)])"
      ],
      "execution_count": 0,
      "outputs": []
    },
    {
      "cell_type": "code",
      "metadata": {
        "id": "oaFVi08VcGS0",
        "colab_type": "code",
        "colab": {}
      },
      "source": [
        "# pytorch\n",
        "torch.empty([int(1e12),int(1e12)])"
      ],
      "execution_count": 0,
      "outputs": []
    },
    {
      "cell_type": "markdown",
      "metadata": {
        "id": "fo1JTxCqdptB",
        "colab_type": "text"
      },
      "source": [
        "with GPU, pytorch wins!"
      ]
    },
    {
      "cell_type": "markdown",
      "metadata": {
        "id": "Z1ymwdbxZn5K",
        "colab_type": "text"
      },
      "source": [
        "###Other Important points about PyTorch"
      ]
    },
    {
      "cell_type": "code",
      "metadata": {
        "id": "aSlQgA-bZxgW",
        "colab_type": "code",
        "colab": {}
      },
      "source": [
        "x = torch.rand(4,4)\n",
        "x"
      ],
      "execution_count": 0,
      "outputs": []
    },
    {
      "cell_type": "code",
      "metadata": {
        "id": "1zYvmHxyazv3",
        "colab_type": "code",
        "colab": {}
      },
      "source": [
        "x.shape"
      ],
      "execution_count": 0,
      "outputs": []
    },
    {
      "cell_type": "code",
      "metadata": {
        "id": "H1oPcz5MaEAc",
        "colab_type": "code",
        "colab": {}
      },
      "source": [
        "# Reshaping a tensor in pytorch\n",
        "# It is equivalent to reshape in numpy. However it doesn't allocate memory\n",
        "x.view(2,8)"
      ],
      "execution_count": 0,
      "outputs": []
    },
    {
      "cell_type": "code",
      "metadata": {
        "id": "6NTdCZ5Ta2NO",
        "colab_type": "code",
        "colab": {}
      },
      "source": [
        "y = x.view(-1,2)  # read more - https://stackoverflow.com/a/42482819/7179564\n",
        "y"
      ],
      "execution_count": 0,
      "outputs": []
    },
    {
      "cell_type": "code",
      "metadata": {
        "id": "aD_2PPQ_bArr",
        "colab_type": "code",
        "colab": {}
      },
      "source": [
        "# read about torch.expand vs torch.repeat here - https://discuss.pytorch.org/t/torch-repeat-and-torch-expand-which-to-use/27969/3"
      ],
      "execution_count": 0,
      "outputs": []
    },
    {
      "cell_type": "markdown",
      "metadata": {
        "id": "Z8AUSjdjcMKW",
        "colab_type": "text"
      },
      "source": [
        "## Get Tensor's mathematical properties"
      ]
    },
    {
      "cell_type": "code",
      "metadata": {
        "id": "YbMdlu0-bnmx",
        "colab_type": "code",
        "colab": {}
      },
      "source": [
        "x = torch.randint(100,(50,20)).float()\n",
        "x"
      ],
      "execution_count": 0,
      "outputs": []
    },
    {
      "cell_type": "code",
      "metadata": {
        "id": "kaETRzfecsOj",
        "colab_type": "code",
        "colab": {}
      },
      "source": [
        "x.sum() #returns tensor"
      ],
      "execution_count": 0,
      "outputs": []
    },
    {
      "cell_type": "code",
      "metadata": {
        "id": "A3-gpQ72c3b5",
        "colab_type": "code",
        "colab": {}
      },
      "source": [
        "x.sum(dim=0) # columnwise"
      ],
      "execution_count": 0,
      "outputs": []
    },
    {
      "cell_type": "code",
      "metadata": {
        "id": "_rh_UGkRc8-4",
        "colab_type": "code",
        "colab": {}
      },
      "source": [
        "x.sum(dim=1) #row-wise"
      ],
      "execution_count": 0,
      "outputs": []
    },
    {
      "cell_type": "code",
      "metadata": {
        "id": "0DiVP6CfdDTg",
        "colab_type": "code",
        "colab": {}
      },
      "source": [
        "x.sum().item()"
      ],
      "execution_count": 0,
      "outputs": []
    },
    {
      "cell_type": "code",
      "metadata": {
        "id": "Mzkqt1AZdRWz",
        "colab_type": "code",
        "colab": {}
      },
      "source": [
        "x.mean().item()"
      ],
      "execution_count": 0,
      "outputs": []
    },
    {
      "cell_type": "code",
      "metadata": {
        "id": "cwQuCxxnddb9",
        "colab_type": "code",
        "colab": {}
      },
      "source": [
        "x.norm() #Frobenius Norm"
      ],
      "execution_count": 0,
      "outputs": []
    },
    {
      "cell_type": "markdown",
      "metadata": {
        "id": "BEteXUDFeHCT",
        "colab_type": "text"
      },
      "source": [
        "## Pytorch and Numpy together\n"
      ]
    },
    {
      "cell_type": "code",
      "metadata": {
        "id": "VNgAK0HUdutw",
        "colab_type": "code",
        "colab": {}
      },
      "source": [
        "x = np.random.random((5,3))\n",
        "x"
      ],
      "execution_count": 0,
      "outputs": []
    },
    {
      "cell_type": "code",
      "metadata": {
        "id": "GXePfplhfVWZ",
        "colab_type": "code",
        "colab": {}
      },
      "source": [
        "y = torch.from_numpy(x)\n",
        "y"
      ],
      "execution_count": 0,
      "outputs": []
    },
    {
      "cell_type": "code",
      "metadata": {
        "id": "BgDRT-jpfbwN",
        "colab_type": "code",
        "colab": {}
      },
      "source": [
        "y = torch.rand(3,4)\n",
        "y"
      ],
      "execution_count": 0,
      "outputs": []
    },
    {
      "cell_type": "code",
      "metadata": {
        "id": "gGAGs9ZRfjAb",
        "colab_type": "code",
        "colab": {}
      },
      "source": [
        "x = y.numpy()\n",
        "x"
      ],
      "execution_count": 0,
      "outputs": []
    },
    {
      "cell_type": "markdown",
      "metadata": {
        "id": "e8aChnULfp0v",
        "colab_type": "text"
      },
      "source": [
        "## GPU stuff"
      ]
    },
    {
      "cell_type": "code",
      "metadata": {
        "id": "aCjIlLu3fmRq",
        "colab_type": "code",
        "colab": {}
      },
      "source": [
        "import torch\n",
        "torch.cuda.is_available()"
      ],
      "execution_count": 0,
      "outputs": []
    },
    {
      "cell_type": "code",
      "metadata": {
        "id": "crnakGO4pEoC",
        "colab_type": "code",
        "colab": {}
      },
      "source": [
        "torch.cuda.device_count()"
      ],
      "execution_count": 0,
      "outputs": []
    },
    {
      "cell_type": "code",
      "metadata": {
        "id": "ubs3YMyQpXkC",
        "colab_type": "code",
        "colab": {}
      },
      "source": [
        "cpu = torch.device('cpu')\n",
        "cuda_0 = torch.device('cuda:0')\n",
        "\n",
        "x = torch.rand(4,3)\n",
        "# You can use the tensor.to(device) command to move a tensor to a device.\n",
        "x = x.to(cpu)\n",
        "print(x.device)\n",
        "x = x.to(cuda_0)\n",
        "print(x.device)"
      ],
      "execution_count": 0,
      "outputs": []
    },
    {
      "cell_type": "markdown",
      "metadata": {
        "id": "orny_l4PqRHe",
        "colab_type": "text"
      },
      "source": [
        "# Autograd "
      ]
    }
  ]
}